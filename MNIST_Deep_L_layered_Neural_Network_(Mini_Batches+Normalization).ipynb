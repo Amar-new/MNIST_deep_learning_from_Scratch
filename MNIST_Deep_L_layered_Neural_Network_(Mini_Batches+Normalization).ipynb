{
  "nbformat": 4,
  "nbformat_minor": 0,
  "metadata": {
    "kernelspec": {
      "display_name": "Python 3",
      "language": "python",
      "name": "python3"
    },
    "language_info": {
      "codemirror_mode": {
        "name": "ipython",
        "version": 3
      },
      "file_extension": ".py",
      "mimetype": "text/x-python",
      "name": "python",
      "nbconvert_exporter": "python",
      "pygments_lexer": "ipython3",
      "version": "3.7.4"
    },
    "colab": {
      "name": "MNIST_Deep_L_layered_Neural_Network_(Mini_Batches+Normalization).ipynb",
      "provenance": [],
      "collapsed_sections": []
    }
  },
  "cells": [
    {
      "cell_type": "code",
      "metadata": {
        "id": "nh6zVssXKo14",
        "colab_type": "code",
        "colab": {}
      },
      "source": [
        "!wget http://yann.lecun.com/exdb/mnist/train-images-idx3-ubyte.gz\n",
        "!wget http://yann.lecun.com/exdb/mnist/train-labels-idx1-ubyte.gz\n",
        "!wget http://yann.lecun.com/exdb/mnist/t10k-images-idx3-ubyte.gz\n",
        "!wget http://yann.lecun.com/exdb/mnist/t10k-labels-idx1-ubyte.gz"
      ],
      "execution_count": 0,
      "outputs": []
    },
    {
      "cell_type": "code",
      "metadata": {
        "id": "Hw3QUyOnmqF3",
        "colab_type": "code",
        "colab": {}
      },
      "source": [
        "import numpy as np\n",
        "import matplotlib.pyplot as plt\n",
        "\n",
        "from mnist_nn_utils import load_train_test_dataset, softmax, relu, relu_backward, softmax_backward\n",
        "from optimization_algos import random_mini_batches\n",
        "%load_ext autoreload\n",
        "%autoreload 2"
      ],
      "execution_count": 0,
      "outputs": []
    },
    {
      "cell_type": "code",
      "metadata": {
        "id": "gacmCcPXmqGJ",
        "colab_type": "code",
        "outputId": "f9b4284e-8f8d-4927-b017-91609265138d",
        "colab": {
          "base_uri": "https://localhost:8080/",
          "height": 451
        }
      },
      "source": [
        "X_train, Y_train, X_test, Y_test= load_train_test_dataset(\"Colab\")"
      ],
      "execution_count": 0,
      "outputs": [
        {
          "output_type": "stream",
          "text": [
            "Length of the Y_train list:  60000\n"
          ],
          "name": "stdout"
        },
        {
          "output_type": "display_data",
          "data": {
            "image/png": "[encoded data removed]",
            "text/plain": [
              "<Figure size 432x288 with 1 Axes>"
            ]
          },
          "metadata": {
            "tags": [],
            "needs_background": "light"
          }
        },
        {
          "output_type": "stream",
          "text": [
            "Length of the Y_test list:  10000\n",
            "\n",
            "Numpy array X_train shape:  (784, 60000)\n",
            "\n",
            "NUmpy array Y_train shape:  (1, 60000)\n",
            "\n",
            "Numpy array X_test shape:  (784, 10000)\n",
            "\n",
            "Numpy array Y_test shape:  (1, 10000)\n"
          ],
          "name": "stdout"
        }
      ]
    },
    {
      "cell_type": "code",
      "metadata": {
        "id": "bmJST9NFmqGQ",
        "colab_type": "code",
        "outputId": "3cd4fa03-01d0-44c7-ff8d-5380b3ed6efd",
        "colab": {
          "base_uri": "https://localhost:8080/",
          "height": 34
        }
      },
      "source": [
        "'''########### ONE HOT ENCODING OF Y_TRAIN #################\n",
        "\n",
        "https://kite.com/python/answers/how-to-do-one-hot-encoding-with-numpy-in-python\n",
        "'''\n",
        "shape=(10,Y_train.size)\n",
        "\n",
        "one_hot=np.zeros(shape)\n",
        "\n",
        "rows=np.arange(Y_train.size)\n",
        "\n",
        "'''\n",
        "Now the one_hot is a matrix with rows equal to Y_train and the number of columns is same as number of classes.\n",
        "one_hot[rows,Y_train]=1 ---- puts the value 1 at (row_number=rows,column_number=Y_train_value)\n",
        "'''\n",
        "one_hot[Y_train,rows]=1\n",
        "\n",
        "print(\"Shape of One Hot encoding\",one_hot.shape)\n",
        "\n",
        "Y_train=one_hot  #Set Y_train to the encoded variable"
      ],
      "execution_count": 0,
      "outputs": [
        {
          "output_type": "stream",
          "text": [
            "Shape of One Hot encoding (10, 60000)\n"
          ],
          "name": "stdout"
        }
      ]
    },
    {
      "cell_type": "code",
      "metadata": {
        "id": "7FxEPSWpUj6f",
        "colab_type": "code",
        "colab": {}
      },
      "source": [
        "'''############### NORMALIZING THE INPUTS OF TRAIN AND TEST SET #################'''\n",
        "\n",
        "X_train /= 255\n",
        "X_test /= 255"
      ],
      "execution_count": 0,
      "outputs": []
    },
    {
      "cell_type": "markdown",
      "metadata": {
        "id": "uojWl41KN6aL",
        "colab_type": "text"
      },
      "source": [
        "**THE INITIALIZATION THAT WE PERFFORM HERE IS A SOLUTION TO THE VANISHING GRADIENTS PROBLEM**\n",
        "\n",
        "> In our earlier Model we saw that there was a problem with Cost Function decreasing very slowly. The reason for such a problem can be the ReLU function that makes most of the terms zero and hence creating a Vanishing gradient problem. \n",
        "\n"
      ]
    },
    {
      "cell_type": "code",
      "metadata": {
        "id": "JGx0y0RRmqGa",
        "colab_type": "code",
        "colab": {}
      },
      "source": [
        "''' ########### INITIALIZATION OF L LAYERS IN DEEP NN(INITIALIZING FOR REDUCING VANISHING GRADIENT PROBLEM) ##############'''\n",
        "def initialize_parameters_deep(layer_dims):\n",
        "    \n",
        "    '''Here layer_dims is a python list conataining the dimensions of all the layers'''\n",
        "    np.random.seed(9)\n",
        "    parameters = {}\n",
        "    L = len(layer_dims)\n",
        "    \n",
        "    for l in range(1, L):\n",
        "        \n",
        "        parameters[\"W\"+str(l)]= np.random.randn(layer_dims[l], layer_dims[l-1])*np.sqrt(2/layer_dims[l-1])\n",
        "        parameters[\"b\"+str(l)]= np.zeros((layer_dims[l],1))\n",
        "        \n",
        "        assert(parameters['W' + str(l)].shape == (layer_dims[l], layer_dims[l-1]))\n",
        "        assert(parameters['b' + str(l)].shape == (layer_dims[l], 1))\n",
        "        \n",
        "    return parameters"
      ],
      "execution_count": 0,
      "outputs": []
    },
    {
      "cell_type": "code",
      "metadata": {
        "id": "Lgf3lDSMmqGh",
        "colab_type": "code",
        "colab": {}
      },
      "source": [
        "'''############### FORWARD PROPAGATION MODULE for L Layers in \"DEEP NN\" ##################'''\n",
        "\n",
        "def linear_forward(A, W, b):\n",
        "    '''We build the LINEAR PART of the Forward Propagation'''\n",
        "    Z= np.dot(W,A)+b\n",
        "    \n",
        "    cache = (A, W, b)\n",
        "    \n",
        "    return Z, cache\n",
        "\n",
        "def linear_activation_forward(A_prev, W, b, activation):\n",
        "    '''This function implements the ACTIVATION PART of the Forward Propagation'''\n",
        "    \n",
        "    if activation ==\"softmax\":\n",
        "        Z, linear_cache = linear_forward(A_prev, W, b)\n",
        "        A, activation_cache = softmax(Z)\n",
        "        \n",
        "    elif activation ==\"relu\":\n",
        "        Z, linear_cache = linear_forward(A_prev, W, b)\n",
        "        A, activation_cache = relu(Z)\n",
        "        \n",
        "    cache = (linear_cache, activation_cache)\n",
        "    return A, cache\n",
        "\n",
        "def L_model_forward(X, parameters,print_AL=False):\n",
        "    '''\n",
        "    Implement forward propagation for the [LINEAR->RELU]*(L-1)->LINEAR->SIGMOID computation\n",
        "    We use the above two functions in this function\n",
        "    '''\n",
        "    caches=[]\n",
        "    A = X\n",
        "    L = len(parameters)//2    ##number of layers in the neural net\n",
        "    \n",
        "    # Implement [LINEAR -> RELU]*(L-1). Add \"cache\" to the \"caches\" list.\n",
        "    for l in range(1, L):\n",
        "        A_prev = A\n",
        "        A, cache = linear_activation_forward(A_prev, parameters[\"W\"+str(l)], parameters[\"b\"+str(l)], \"relu\")\n",
        "        caches.append(cache)\n",
        "        \n",
        "    AL, cache = linear_activation_forward(A, parameters[\"W\"+str(L)], parameters[\"b\"+str(L)], \"softmax\")\n",
        "    caches.append(cache)\n",
        "    \n",
        "    if print_AL==True:\n",
        "      print(AL)\n",
        "    return AL, caches"
      ],
      "execution_count": 0,
      "outputs": []
    },
    {
      "cell_type": "code",
      "metadata": {
        "id": "L4zWjIUBmqGp",
        "colab_type": "code",
        "colab": {}
      },
      "source": [
        "'''############### COMPUTE COST ###############'''\n",
        "def compute_cost(AL, Y):\n",
        "    \n",
        "    m = Y.shape[1]\n",
        "    max_val = np.max(AL, axis =0)\n",
        "    exp_val = np.sum(np.exp(AL - max_val), axis =0)\n",
        "    logsoftmax = (AL - max_val) - np.log(exp_val)\n",
        "    cost = -(np.sum(np.multiply(Y,logsoftmax)))/m\n",
        "    \n",
        "    cost = np.squeeze(cost)\n",
        "    return cost"
      ],
      "execution_count": 0,
      "outputs": []
    },
    {
      "cell_type": "code",
      "metadata": {
        "id": "CKKW95pomqGw",
        "colab_type": "code",
        "colab": {}
      },
      "source": [
        "'''################ BACKWARD PROPAGATION MODULE #############'''\n",
        "def linear_backward(dZ, cache):\n",
        "    '''Implement the linear portion of the Backward Propagation'''\n",
        "    A_prev, W, b = cache\n",
        "    m = A_prev.shape[1]\n",
        "    \n",
        "    dW = np.dot(dZ, A_prev.T)/m\n",
        "    db = np.sum(dZ, axis =1, keepdims= True)/m\n",
        "    dA_prev = np.dot(W.T, dZ)\n",
        "    \n",
        "    return dA_prev, dW, db\n",
        "\n",
        "def linear_activation_backward(dA, cache, activation):\n",
        "    \n",
        "    linear_cache, activation_cache = cache\n",
        "    \n",
        "    if activation == \"relu\":\n",
        "        dZ = relu_backward(dA, activation_cache)\n",
        "        dA_prev, dW, db = linear_backward(dZ, linear_cache)\n",
        "        \n",
        "    elif activation == \"softmax\":\n",
        "        dZ = softmax_backward(dA, activation_cache)\n",
        "        dA_prev, dW, db = linear_backward(dZ, linear_cache)\n",
        "        \n",
        "    return dA_prev, dW, db\n",
        "\n",
        "def L_model_backward(AL, Y, caches):\n",
        "    \n",
        "    grads={}\n",
        "    m = AL.shape[1]\n",
        "    \n",
        "    Y = Y.reshape(AL.shape)\n",
        "    \n",
        "    L = len(caches)    ##number of layers in the neural net\n",
        "    #print(\"L: \",L)\n",
        "    out = np.zeros((10, m))\n",
        "    dAL = -np.divide(Y,np.maximum(AL,1e-12), out=out, where=Y!=0)\n",
        "    \n",
        "    current_cache = caches[L-1]\n",
        "    \n",
        "    grads[\"dA\"+str(L-1)], grads[\"dW\"+str(L)], grads[\"db\"+str(L)] = linear_activation_backward(dAL, current_cache, activation=\"softmax\")\n",
        "    \n",
        "    #Loop from L-2 to 0\n",
        "    for l in reversed(range(L-1)):\n",
        "        current_cache = caches[l]\n",
        "        #print(\"Value of l:\",l)\n",
        "        dA_prev_temp,dW_temp, db_temp = linear_activation_backward(grads[\"dA\"+str(l+1)], current_cache, activation=\"relu\")\n",
        "        grads[\"dA\"+str(l)] = dA_prev_temp\n",
        "        grads[\"dW\"+str(l+1)] = (dW_temp)/m\n",
        "        grads[\"db\"+str(l+1)] = (db_temp)/m\n",
        "\n",
        "        #print(\"dA\"+str(l)+\":\"+grads[\"dA\"+str(l)],\"\\ndW\"+str(l+1)+\":\"+grads[\"W\"+str(l+1)],grads[\"b\"+str(l+1)])\n",
        "        \n",
        "    return grads"
      ],
      "execution_count": 0,
      "outputs": []
    },
    {
      "cell_type": "code",
      "metadata": {
        "id": "AHzUwOKrmqG5",
        "colab_type": "code",
        "colab": {}
      },
      "source": [
        "'''################ UPDATE PARAMETERS ###################'''\n",
        "def update_parameters(parameters, grads, learning_rate):\n",
        "    \n",
        "    L= len(parameters)//2\n",
        "    for l in range(L):\n",
        "        parameters[\"W\"+str(l+1)] = parameters[\"W\"+str(l+1)] - learning_rate*grads[\"dW\"+str(l+1)]\n",
        "        parameters[\"b\"+str(l+1)] = parameters[\"b\"+str(l+1)] - learning_rate*grads[\"db\"+str(l+1)]\n",
        "        \n",
        "    return parameters"
      ],
      "execution_count": 0,
      "outputs": []
    },
    {
      "cell_type": "code",
      "metadata": {
        "id": "BP91xstGmqHA",
        "colab_type": "code",
        "colab": {}
      },
      "source": [
        "'''############# DEFINING DIMENSIONS FOR THE LAYERS ##############'''\n",
        "layers_dims = [X_train.shape[0], 800, 500, 128 , Y_train.shape[0]] #  4-layer model"
      ],
      "execution_count": 0,
      "outputs": []
    },
    {
      "cell_type": "code",
      "metadata": {
        "id": "9PDv9OfxmqHG",
        "colab_type": "code",
        "colab": {}
      },
      "source": [
        "'''################## L LAYER MODEL ###############'''\n",
        "def L_layer_model(X, Y, layer_dims,learning_rate=0.076, mini_batch_size= 128,  num_epochs=500, print_cost=False):\n",
        "    \n",
        "    costs=[] #to plot the graph\n",
        "    seed = 56\n",
        "    m = X.shape[1]\n",
        "\n",
        "\n",
        "    #Initialize Parameters\n",
        "    parameters = initialize_parameters_deep(layer_dims)\n",
        "    \n",
        "    for i in range(num_epochs):\n",
        "      seed = seed +1\n",
        "      minibatches = random_mini_batches(X, Y, mini_batch_size, seed)\n",
        "      cost_total = 0\n",
        "\n",
        "      for mini_batch in minibatches:\n",
        "        #Select a mini_batch\n",
        "        (minibatch_X, minibatch_Y) = mini_batch\n",
        "\n",
        "        #Forward Propagation on mini_batch\n",
        "        AL, caches = L_model_forward(minibatch_X, parameters)\n",
        "\n",
        "        #Compute Cost and add to the total cost\n",
        "        cost_total += compute_cost(AL, minibatch_Y)\n",
        "\n",
        "        #Backward Propagation on mini_batch\n",
        "        grads = L_model_backward(AL, minibatch_Y, caches)\n",
        "\n",
        "        #Update Parameters of W & b\n",
        "        parameters = update_parameters(parameters, grads, learning_rate)\n",
        "        \n",
        "      cost_avg = cost_total/m\n",
        "\n",
        "      if print_cost and i%2 == 0:\n",
        "        print (\"Cost after epoch %i: %f\" %(i, cost_avg))\n",
        "        costs.append(cost_avg)\n",
        "\n",
        "    '''Plot the Cost'''\n",
        "    plt.plot(np.squeeze(costs))\n",
        "    plt.ylabel(\"cost\")\n",
        "    plt.xlabel(\"Epochs (per hundred)\")\n",
        "    plt.title(\"Learning rate: \"+str(learning_rate))\n",
        "    plt.show()\n",
        "    \n",
        "    return parameters"
      ],
      "execution_count": 0,
      "outputs": []
    },
    {
      "cell_type": "code",
      "metadata": {
        "id": "scIldKacmqHN",
        "colab_type": "code",
        "colab": {}
      },
      "source": [
        "parameters = L_layer_model(X_train, Y_train, layers_dims, mini_batch_size=2048, num_epochs= 10, print_cost = True)"
      ],
      "execution_count": 0,
      "outputs": []
    },
    {
      "cell_type": "code",
      "metadata": {
        "id": "a7S10e5RmqHV",
        "colab_type": "code",
        "colab": {}
      },
      "source": [
        "########################### PREDICTION ####################\n",
        "def predict(parameters, X):\n",
        "    '''Use Forward Propagation and parameters to compute A2'''\n",
        "    AL, cache = L_model_forward(X, parameters,print_AL=True)\n",
        "    \n",
        "    print(\"Shape of AL\",AL.shape)\n",
        "    print(AL[:,0:5])\n",
        "    predictions = np.where(AL == np.amax(AL, axis=0))\n",
        "    print(predictions)\n",
        "    #the predictions ia a two tuple \n",
        "    return predictions[0]"
      ],
      "execution_count": 0,
      "outputs": []
    },
    {
      "cell_type": "code",
      "metadata": {
        "id": "DpkbAu1oluN3",
        "colab_type": "code",
        "outputId": "2b08a15d-2130-4bb8-f255-db90eeb8de68",
        "colab": {
          "base_uri": "https://localhost:8080/",
          "height": 445
        }
      },
      "source": [
        "######################## PREDICTION ON TEST SET #######################\n",
        "Y2 = predict(parameters, X_test)\n",
        "print(Y2.shape)\n",
        "\n",
        "result = [Y2 == Y_test]\n",
        "\n",
        "# result is a list, in which the first is an array of boolean values\n",
        "#so we separate it out using result[0]\n",
        "print(result[0])\n",
        "count = np.count_nonzero(result[0]) ##Number of true values in the list accuracy\n",
        "count\n",
        "\n",
        "#accuracy"
      ],
      "execution_count": 0,
      "outputs": [
        {
          "output_type": "stream",
          "text": [
            "[[nan nan nan ... nan nan nan]\n",
            " [nan nan nan ... nan nan nan]\n",
            " [nan nan nan ... nan nan nan]\n",
            " ...\n",
            " [nan nan nan ... nan nan nan]\n",
            " [nan nan nan ... nan nan nan]\n",
            " [nan nan nan ... nan nan nan]]\n",
            "Shape of AL (10, 10000)\n",
            "[[nan nan nan nan nan]\n",
            " [nan nan nan nan nan]\n",
            " [nan nan nan nan nan]\n",
            " [nan nan nan nan nan]\n",
            " [nan nan nan nan nan]\n",
            " [nan nan nan nan nan]\n",
            " [nan nan nan nan nan]\n",
            " [nan nan nan nan nan]\n",
            " [nan nan nan nan nan]\n",
            " [nan nan nan nan nan]]\n",
            "(array([], dtype=int64), array([], dtype=int64))\n",
            "(0,)\n",
            "False\n"
          ],
          "name": "stdout"
        },
        {
          "output_type": "stream",
          "text": [
            "/usr/local/lib/python3.6/dist-packages/ipykernel_launcher.py:4: DeprecationWarning: elementwise comparison failed; this will raise an error in the future.\n",
            "  after removing the cwd from sys.path.\n"
          ],
          "name": "stderr"
        },
        {
          "output_type": "execute_result",
          "data": {
            "text/plain": [
              "0"
            ]
          },
          "metadata": {
            "tags": []
          },
          "execution_count": 31
        }
      ]
    }
  ]
}